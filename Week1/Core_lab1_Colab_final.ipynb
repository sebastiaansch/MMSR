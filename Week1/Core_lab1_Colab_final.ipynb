{
  "nbformat": 4,
  "nbformat_minor": 0,
  "metadata": {
    "colab": {
      "name": "Core_lab1_Colab_final.ipynb",
      "version": "0.3.2",
      "provenance": [],
      "collapsed_sections": [
        "Vuw_aElVJ4La",
        "uiITDRlbJ4La"
      ]
    },
    "kernelspec": {
      "name": "python3",
      "display_name": "Python 3"
    }
  },
  "cells": [
    {
      "metadata": {
        "id": "cue_MITdJ4JE",
        "colab_type": "text"
      },
      "cell_type": "markdown",
      "source": [
        "## Some introductory notes\n",
        "For our labs, we use Jupyter notebooks. These are increasingly being used in present-day data science projects. As advantages, rather than having to write scripts or using command prompts, you can interactively work and code in your browser, 'play around' with parameters and settings while keeping an overview of what steps you took, and e.g. include surrounding markdown descriptions and plots.\n",
        "\n",
        "As not everyone of you may be fluent in Python, our labs are constructed such that you will not have to do any setups from scratch, and you don't need in-depth program-linguistic knowledge up front. Instead, we will rather offer boilerplate code and nearly-completed code, and you will be asked to run this, complete this and adapt this.\n",
        "\n",
        "Throughout the notebook, you also will find several <b>Questions</b>. These are meant for you to discuss in your duo while conducting the lab. Note you do <b>not</b> have to submit the answers to these questions to us as part of the final deliverable: they are purely meant for reflection.\n",
        "\n",
        "To execute code in a notebook cell, hit the 'execute' button in the browser or use the Ctrl-Enter shortcut."
      ]
    },
    {
      "metadata": {
        "id": "P2ESsipvJ4JF",
        "colab_type": "text"
      },
      "cell_type": "markdown",
      "source": [
        "# Lab 1: Recommender systems, Colab version\n",
        "\n",
        "Following the second lecture of this week, for this lab, we will zoom in into the workings of recommender systems.\n",
        "\n",
        "More specifically, we are going to try out matrix factorization on a slice of the first Movielens dataset.\n",
        "\n",
        "While doing this, you also will be introduced to a few handy data handling routines in Python.\n",
        "\n",
        "## About the Movielens data\n",
        "Movielens (https://movielens.org/) is a movie recommendation service run by the Grouplens (http://grouplens.org/) team at the University of Minnesota. Over the years, the service has been growing considerably, and once every few years, Grouplens releases new anonymized usage data to the community (http://grouplens.org/datasets/movielens/), which have become de facto benchmarking standards in the Recommender Systems research community.\n",
        "\n",
        "In 1998, the first released dataset consisted of 100,000 ratings (1000 users, 1700 movies). The most recently released benchmark dataset (2014) consisted of 20 million ratings (138,000 users, 27,000 movies).\n",
        "\n",
        "In the current lab session, we will not focus on the big data crunching, but rather on getting a better practical feeling on how to handle user-item data, as well as the implications of Matrix Factorization."
      ]
    },
    {
      "metadata": {
        "id": "kiIqnoUjJ4JF",
        "colab_type": "text"
      },
      "cell_type": "markdown",
      "source": [
        "## What to hand in\n",
        "As final deliverable to demonstrate your successful completion of this assignment, please submit a file named [studentNumberMember1_studentNumberMember2.pdf] through Brightspace.\n",
        "\n",
        "This file should:\n",
        "* Include **three** latent factor scatter plots, obtained for **three different input data slices** (which should differ at least in terms of user population size).\n",
        "* For each of the scatter plots, please:\n",
        "  * specify the characteristics of your input data (e.g. population size, selection criteria for users and films);\n",
        "  * based on the plot, give a possible interpretation of what the factors represented by the x and y axes of your plot may indicate.\n",
        "\n",
        "Further instructions can be found further down this notebook, at the point where we give an example plot."
      ]
    },
    {
      "metadata": {
        "id": "jTZXY2BzJ4JG",
        "colab_type": "text"
      },
      "cell_type": "markdown",
      "source": [
        "## Installing dependencies to run on Google Colab!\n",
        "We will first setup the system and install the dependencies for this lab\n",
        "\n",
        "**Note**: This cell needs to be run everytime you start a new session of the Colab Notebook"
      ]
    },
    {
      "metadata": {
        "id": "-z3CPGjQJ4JH",
        "colab_type": "code",
        "colab": {}
      },
      "cell_type": "code",
      "source": [
        "import os, time\n",
        "\n",
        "\n",
        "!apt-get install -y -qq software-properties-common python-software-properties module-init-tools\n",
        "!add-apt-repository -y ppa:alessandro-strada/ppa 2>&1 > /dev/null\n",
        "!apt-get update -qq 2>&1 > /dev/null\n",
        "!apt-get -y install -qq google-drive-ocamlfuse fuse\n",
        "\n",
        "# Packages for the lab notebooks\n",
        "!apt-get -qq -y install mono-complete\n",
        "!apt-get -qq -y install libsamplerate0 libsamplerate0-dev\n",
        "\n",
        "!pip install --upgrade setuptools"
      ],
      "execution_count": 0,
      "outputs": []
    },
    {
      "metadata": {
        "id": "CJHGGtvuJ4JK",
        "colab_type": "text"
      },
      "cell_type": "markdown",
      "source": [
        "### One-time user authentication for accessing google drive folders\n",
        "\n",
        " - Open the link that comes in the output cell and copy & paste the token in the text box here.\n",
        " - If just the text box appears (i.e textbox without authentication links), then input your google password in the textbox.\n",
        "\n",
        "**Note**: This cell needs to be run everytime you start a new session of the Colab Notebook"
      ]
    },
    {
      "metadata": {
        "id": "x6YcU8p-J4JL",
        "colab_type": "code",
        "colab": {}
      },
      "cell_type": "code",
      "source": [
        "from google.colab import auth\n",
        "auth.authenticate_user()\n",
        "from oauth2client.client import GoogleCredentials\n",
        "creds = GoogleCredentials.get_application_default()\n",
        "import getpass\n",
        "!google-drive-ocamlfuse -headless -id={creds.client_id} -secret={creds.client_secret} < /dev/null 2>&1 | grep URL\n",
        "vcode = getpass.getpass()\n",
        "!echo {vcode} | google-drive-ocamlfuse -headless -id={creds.client_id} -secret={creds.client_secret}"
      ],
      "execution_count": 0,
      "outputs": []
    },
    {
      "metadata": {
        "id": "WeJIgb5tJ4JN",
        "colab_type": "text"
      },
      "cell_type": "markdown",
      "source": [
        "### Accessing Google Drive files\n",
        "\n",
        "In this step, we basically create an empty directory and then **mount** `google-drive`(google drive directory) on the empty directory that we have created."
      ]
    },
    {
      "metadata": {
        "id": "5NAhIyZiJ4JO",
        "colab_type": "code",
        "colab": {}
      },
      "cell_type": "code",
      "source": [
        "# Check the current working directory first\n",
        "!pwd\n",
        "!ls"
      ],
      "execution_count": 0,
      "outputs": []
    },
    {
      "metadata": {
        "id": "9GsDXWwaJ4JQ",
        "colab_type": "code",
        "colab": {}
      },
      "cell_type": "code",
      "source": [
        "# If the gdrive folder does not exist already then perform the following steps, else skip this\n",
        "!mkdir -p gdrive\n",
        "!google-drive-ocamlfuse gdrive\n",
        "# !google-drive-ocamlfuse nonempty gdrive"
      ],
      "execution_count": 0,
      "outputs": []
    },
    {
      "metadata": {
        "id": "EuxDClVxJ4JS",
        "colab_type": "text"
      },
      "cell_type": "markdown",
      "source": [
        "### Change working directory to the MMSR repository folder"
      ]
    },
    {
      "metadata": {
        "id": "MMnqMC4JJ4JT",
        "colab_type": "code",
        "colab": {}
      },
      "cell_type": "code",
      "source": [
        "# Check the current working directory\n",
        "!pwd\n",
        "!ls "
      ],
      "execution_count": 0,
      "outputs": []
    },
    {
      "metadata": {
        "id": "a13uLi9-J4JV",
        "colab_type": "text"
      },
      "cell_type": "markdown",
      "source": [
        "#### If running for the first time, **`CREATE`** a new directory for the MMSR labs.\n",
        "**NOTE**: If the directory has already been created, then skip this cell"
      ]
    },
    {
      "metadata": {
        "id": "i6oU5LNKJ4JV",
        "colab_type": "code",
        "colab": {}
      },
      "cell_type": "code",
      "source": [
        "os.mkdir(\"gdrive/MMSR_lab\")"
      ],
      "execution_count": 0,
      "outputs": []
    },
    {
      "metadata": {
        "id": "jpe-Hfv9J4JX",
        "colab_type": "text"
      },
      "cell_type": "markdown",
      "source": [
        "#### Change to the MMSR lab directory"
      ]
    },
    {
      "metadata": {
        "id": "awmt8_LHJ4JZ",
        "colab_type": "code",
        "colab": {}
      },
      "cell_type": "code",
      "source": [
        "# Change to the created directory\n",
        "os.chdir(\"gdrive/MMSR_lab\")\n",
        "\n",
        "# Verify if we are in the right directory\n",
        "!pwd"
      ],
      "execution_count": 0,
      "outputs": []
    },
    {
      "metadata": {
        "id": "KOGU0c4lJ4Jb",
        "colab_type": "text"
      },
      "cell_type": "markdown",
      "source": [
        "### Clone the MMSR repository (https://gitlab.ewi.tudelft.nl/mmc-tudelft/education/cs4065.git)\n",
        "Alternatively, you can download the MMSR repository on your local machine and then upload the repository folder manually to the `MMSR_lab` folder.\n",
        "\n",
        "**NOTE**: Skip this cell if the repository is already cloned or uploaded manually"
      ]
    },
    {
      "metadata": {
        "id": "Qq1umZOyJ4Jb",
        "colab_type": "code",
        "colab": {}
      },
      "cell_type": "code",
      "source": [
        "!git clone https://gitlab.ewi.tudelft.nl/mmc-tudelft/education/cs4065.git"
      ],
      "execution_count": 0,
      "outputs": []
    },
    {
      "metadata": {
        "id": "T8EoQe3FJ4Jd",
        "colab_type": "text"
      },
      "cell_type": "markdown",
      "source": [
        "**Important**: Check if the repository exists in the current directory"
      ]
    },
    {
      "metadata": {
        "id": "H7PLo9BoJ4Je",
        "colab_type": "code",
        "colab": {}
      },
      "cell_type": "code",
      "source": [
        "!ls"
      ],
      "execution_count": 0,
      "outputs": []
    },
    {
      "metadata": {
        "id": "_6UDyOXnJ4Jg",
        "colab_type": "code",
        "colab": {}
      },
      "cell_type": "code",
      "source": [
        "# Change directory to the repository\n",
        "os.chdir(\"cs4065\")\n",
        "!ls"
      ],
      "execution_count": 0,
      "outputs": []
    },
    {
      "metadata": {
        "id": "x06wIy7rJ4Jj",
        "colab_type": "text"
      },
      "cell_type": "markdown",
      "source": [
        "### Install python dependencies for this lab exercise\n",
        "\n",
        "Python requirements for the **Colab Notebook** versions can be found in the *colab_requirements* directory\n",
        "\n",
        "For this lab, run `lab2-requirements.txt`"
      ]
    },
    {
      "metadata": {
        "id": "VYqQ6iqcJ4Jj",
        "colab_type": "code",
        "colab": {}
      },
      "cell_type": "code",
      "source": [
        "!pip install -r colab_requirements/lab1-requirements.txt"
      ],
      "execution_count": 0,
      "outputs": []
    },
    {
      "metadata": {
        "id": "ecWn_VymJ4Jl",
        "colab_type": "text"
      },
      "cell_type": "markdown",
      "source": [
        "## Importing the data\n",
        "We have prepared a subset of the Movielens 100k dataset, which should automagically be downloaded to your (virtual) machine:"
      ]
    },
    {
      "metadata": {
        "id": "rm4wvzOAJ4Jm",
        "colab_type": "code",
        "colab": {}
      },
      "cell_type": "code",
      "source": [
        "from datasets import CS4065_Dataset\n",
        "DATASET_DIR = os.path.join(os.getcwd(), \"data\")\n",
        "print(DATASET_DIR)\n",
        "\n",
        "\n",
        "# Load dataset of images.\n",
        "cs4065_data = CS4065_Dataset(store_dir=DATASET_DIR)\n",
        "movielens_paths = cs4065_data.get_movielens_subset()"
      ],
      "execution_count": 0,
      "outputs": []
    },
    {
      "metadata": {
        "id": "weYt6ljUJ4Jo",
        "colab_type": "text"
      },
      "cell_type": "markdown",
      "source": [
        "<code>movielens_paths</code> is a dictionary, keyed by three file names in the Movielens 100k dataset:\n",
        "* <code>u.data</code>, containing tab-separated rating data (specifying user ID, movie ID, rating, timestamp);\n",
        "* <code>u.user</code>, containing pipe-separated anonymized demographics data for all users in the dataset (specifying user ID, age, gender, occupation, ZIP code);\n",
        "* <code>u.item</code>, containing pipe-separated movie background information (specifying movie ID, title, genres, IMDB URLs, and more)."
      ]
    },
    {
      "metadata": {
        "id": "EjGKqumKJ4Jo",
        "colab_type": "code",
        "colab": {}
      },
      "cell_type": "code",
      "source": [
        "# Verify the contents of movielens_paths\n",
        "print(movielens_paths)"
      ],
      "execution_count": 0,
      "outputs": []
    },
    {
      "metadata": {
        "id": "95G3SiheJ4Jr",
        "colab_type": "text"
      },
      "cell_type": "markdown",
      "source": [
        "## Selecting analysis data\n",
        "\n",
        "In this lab, we will primarily use data from <code>u.item</code>. The information in <code>u.user</code> is interesting though for assessing potential characterizing user features, and the information in <code>u.item</code> was used by us to manually select a small set of movie IDs, for which we expect that the fan base will show some variation.\n",
        "\n",
        "We put our selection in a <code>movie_data</code> dictionary:"
      ]
    },
    {
      "metadata": {
        "id": "X3i58iuDJ4Jt",
        "colab_type": "code",
        "colab": {}
      },
      "cell_type": "code",
      "source": [
        "# Initialization of the dictionary.\n",
        "# It will be keyed by movie ID, and have the IMDB movie title as corresponding value.\n",
        "movie_data = {}\n",
        "\n",
        "# We now populate the dictionary with some manually chosen examples,\n",
        "# for which we expect to see some different underlying fan bases.\n",
        "\n",
        "# First, we add three animated movies about princesses.\n",
        "movie_data[418] = 'Cinderella (1950)'\n",
        "movie_data[538] = 'Anastasia (1997)'\n",
        "movie_data[542] = 'Pocahontas (1995)'\n",
        "# Then, we add three psychological horror movies.\n",
        "movie_data[200] = 'Shining, The (1980)'\n",
        "movie_data[98] = 'Silence of the Lambs, The (1991)'\n",
        "movie_data[185] = 'Psycho (1960)'\n",
        "# Subsequently, we add three musical movies.\n",
        "movie_data[186] = 'Blues Brothers, The (1980)'\n",
        "movie_data[451] = 'Grease (1978)'\n",
        "movie_data[289] = 'Evita (1996)'\n",
        "# And finally, we add three movies taking place in space.\n",
        "movie_data[50] = 'Star Wars (1977)'\n",
        "movie_data[89] = 'Blade Runner (1982)'\n",
        "movie_data[135] = '2001: A Space Odyssey (1968)'\n",
        "\n",
        "# Now, we have a dictionary with 12 items:\n",
        "print(movie_data)\n",
        "print('\\nMovie %d is titled \"%s\".' % (200, movie_data[200]))"
      ],
      "execution_count": 0,
      "outputs": []
    },
    {
      "metadata": {
        "id": "FQD-kw0hJ4Jw",
        "colab_type": "text"
      },
      "cell_type": "markdown",
      "source": [
        "## Extracting the rating data\n",
        "\n",
        "Next step: we won't look at 100,000 ratings, but **only at ratings for any of these movies**.\n",
        "\n",
        "Let's first put the IDs of the movies we are interested in in a separate variable."
      ]
    },
    {
      "metadata": {
        "id": "QaB_5aYcJ4Jw",
        "colab_type": "code",
        "colab": {}
      },
      "cell_type": "code",
      "source": [
        "movies_considered = movie_data.keys()\n",
        "# For convenience, we will sort the movies by ID.\n",
        "movies_considered = sorted(movies_considered)\n",
        "# How many movies will we consider again?\n",
        "len(movies_considered)"
      ],
      "execution_count": 0,
      "outputs": []
    },
    {
      "metadata": {
        "id": "Nm6gs_qGJ4Jz",
        "colab_type": "text"
      },
      "cell_type": "markdown",
      "source": [
        "For extracting the rating data, we will use the <code>pandas</code> module. It offers some more advanced data structures and corresponding handling capabilities than simple Python dictionaries would be capable of.\n",
        "\n",
        "We will illustrate some of the possibilities here, but see http://pandas.pydata.org/ and the documentation at http://pandas.pydata.org/pandas-docs/version/0.17.1/ for more extensive background and more advanced examples."
      ]
    },
    {
      "metadata": {
        "id": "2v5iJOOTJ4J0",
        "colab_type": "code",
        "colab": {}
      },
      "cell_type": "code",
      "source": [
        "import pandas"
      ],
      "execution_count": 0,
      "outputs": []
    },
    {
      "metadata": {
        "id": "3TLAWKtGJ4J2",
        "colab_type": "text"
      },
      "cell_type": "markdown",
      "source": [
        "A first neat feature is that we can use the <code>read_csv</code> function to read formatted data into a so-called DataFrame:"
      ]
    },
    {
      "metadata": {
        "id": "dOS-sduhJ4J3",
        "colab_type": "code",
        "colab": {}
      },
      "cell_type": "code",
      "source": [
        "# let's check the help documentation for read_csv\n",
        "help(pandas.read_csv)"
      ],
      "execution_count": 0,
      "outputs": []
    },
    {
      "metadata": {
        "id": "zzFnmsrdJ4J5",
        "colab_type": "text"
      },
      "cell_type": "markdown",
      "source": [
        "Clearly, there are many options.\n",
        "What we want to do in the current case, is reading in the <code>u.data</code> file, and giving it proper headers:"
      ]
    },
    {
      "metadata": {
        "id": "wsUKEYW7J4J6",
        "colab_type": "code",
        "colab": {}
      },
      "cell_type": "code",
      "source": [
        "all_rating_data = pandas.read_csv(\n",
        "    movielens_paths['u.data'], # path to file to be read\n",
        "    sep = '\\t', # the data we are reading is tab-separated\n",
        "    names = ['user_id', 'movie_id', 'rating', 'timestamp'] # custom indicated names for the columns to be read\n",
        ")"
      ],
      "execution_count": 0,
      "outputs": []
    },
    {
      "metadata": {
        "id": "bm0D5HReJ4J8",
        "colab_type": "text"
      },
      "cell_type": "markdown",
      "source": [
        "In the way they are printed, dataframes may somewhat remind you of database tables:"
      ]
    },
    {
      "metadata": {
        "id": "6yTvVtPuJ4J9",
        "colab_type": "code",
        "colab": {}
      },
      "cell_type": "code",
      "source": [
        "all_rating_data.head()"
      ],
      "execution_count": 0,
      "outputs": []
    },
    {
      "metadata": {
        "id": "-hQPYIEZJ4J_",
        "colab_type": "text"
      },
      "cell_type": "markdown",
      "source": [
        "Some further possibilities:"
      ]
    },
    {
      "metadata": {
        "id": "TdgHYm6TJ4KA",
        "colab_type": "code",
        "colab": {}
      },
      "cell_type": "code",
      "source": [
        "# return the data at row 3\n",
        "print(all_rating_data.loc[3])"
      ],
      "execution_count": 0,
      "outputs": []
    },
    {
      "metadata": {
        "id": "iMJYz0hyJ4KC",
        "colab_type": "code",
        "colab": {}
      },
      "cell_type": "code",
      "source": [
        "# return the rating of the data at row 3\n",
        "print(all_rating_data.loc[3]['rating'])"
      ],
      "execution_count": 0,
      "outputs": []
    },
    {
      "metadata": {
        "id": "olEWA42CJ4KE",
        "colab_type": "code",
        "colab": {}
      },
      "cell_type": "code",
      "source": [
        "# find all rows corresponding to ratings for Cinderella (movie ID 418)\n",
        "cinderella_ratings = all_rating_data.loc[all_rating_data['movie_id'] == 418]"
      ],
      "execution_count": 0,
      "outputs": []
    },
    {
      "metadata": {
        "id": "ycjDPQ0TJ4KH",
        "colab_type": "text"
      },
      "cell_type": "markdown",
      "source": [
        "## Question\n",
        "How many people rated Cinderella?"
      ]
    },
    {
      "metadata": {
        "id": "prxHYnWaJ4KH",
        "colab_type": "code",
        "colab": {}
      },
      "cell_type": "code",
      "source": [
        "# enter your code here"
      ],
      "execution_count": 0,
      "outputs": []
    },
    {
      "metadata": {
        "id": "YMcmlgE_J4KJ",
        "colab_type": "text"
      },
      "cell_type": "markdown",
      "source": [
        "## Question\n",
        "Using the <code>cinderella_ratings</code> variable, extract and print the ratings of people who hated Cinderella (that is, who gave the movie a rating of 1)."
      ]
    },
    {
      "metadata": {
        "id": "FHYQ6U9qJ4KK",
        "colab_type": "code",
        "colab": {}
      },
      "cell_type": "code",
      "source": [
        "# replace 'None' below by your code to do the proper extraction\n",
        "cinderella_hate_ratings = None\n",
        "\n",
        "# add your printing statement here"
      ],
      "execution_count": 0,
      "outputs": []
    },
    {
      "metadata": {
        "id": "PSKbyIv0J4KM",
        "colab_type": "text"
      },
      "cell_type": "markdown",
      "source": [
        "We might as well check the demographics characteristics of the people who gave Cinderella such a low score.\n",
        "\n",
        "Demographics info is available in the file at location <code>movielens_paths['u.user']</code>.\n",
        "As we stated before, this info is pipe-separated, a sample line is:\n",
        "\n",
        "<code>14|45|M|scientist|55106</code>.\n",
        "\n",
        "The values indicated correspond to the elements\n",
        "\n",
        "<code>user_ID|age|gender|occupation|ZIP_code</code>.\n",
        "\n",
        "## Question\n",
        "Read the user demographics data into a variable <code>user_data</code>."
      ]
    },
    {
      "metadata": {
        "id": "Dg7cpPilJ4KM",
        "colab_type": "code",
        "colab": {}
      },
      "cell_type": "code",
      "source": [
        "user_data = None # replace None by your code\n",
        "\n",
        "# Uncomment the following line to display the demographics information of the Cinderella haters.\n",
        "# user_data.loc[user_data['user_id'].isin(cinderella_hate_ratings['user_id'])]"
      ],
      "execution_count": 0,
      "outputs": []
    },
    {
      "metadata": {
        "id": "rQX_84wyJ4KP",
        "colab_type": "text"
      },
      "cell_type": "markdown",
      "source": [
        "## Selecting data of interest\n",
        "We only want to keep ratings for the movies we are interested in. For this, we can make use of membership testing on our <code>movies_considered</code> variable:"
      ]
    },
    {
      "metadata": {
        "id": "68t8EOEoJ4KQ",
        "colab_type": "code",
        "colab": {}
      },
      "cell_type": "code",
      "source": [
        "ratings_for_movies = all_rating_data.loc[all_rating_data['movie_id'].isin(movies_considered)]"
      ],
      "execution_count": 0,
      "outputs": []
    },
    {
      "metadata": {
        "id": "waaZox4SJ4KS",
        "colab_type": "code",
        "colab": {}
      },
      "cell_type": "code",
      "source": [
        "# how many ratings do we have for our considered movies?\n",
        "len(ratings_for_movies)"
      ],
      "execution_count": 0,
      "outputs": []
    },
    {
      "metadata": {
        "id": "2f7dWATfJ4KU",
        "colab_type": "text"
      },
      "cell_type": "markdown",
      "source": [
        "pandas offers <code>unique()</code> and <code>nunique()</code> functions which are similar to <code>DISTINCT</code> and <code>COUNT(DISTINCT)</code> in SQL:"
      ]
    },
    {
      "metadata": {
        "id": "7EbUiTWJJ4KV",
        "colab_type": "code",
        "colab": {}
      },
      "cell_type": "code",
      "source": [
        "# how many unique users gave the ratings for our movies of interest?\n",
        "print(ratings_for_movies['user_id'].nunique())"
      ],
      "execution_count": 0,
      "outputs": []
    },
    {
      "metadata": {
        "id": "oINr2RwvJ4KX",
        "colab_type": "text"
      },
      "cell_type": "markdown",
      "source": [
        "## Question\n",
        "What is the sparsity proportion of the user-item matrix of the <code>ratings_for_movies</code> data?\n",
        "\n",
        "That is, what is the ratio of zero-valued (so unrated) items over the total number of elements in the user-item matrix?"
      ]
    },
    {
      "metadata": {
        "id": "a3xdnx8AJ4KX",
        "colab_type": "code",
        "colab": {}
      },
      "cell_type": "code",
      "source": [
        "# replace the code below by your code to compute the sparsity proportion\n",
        "3 / 4.0"
      ],
      "execution_count": 0,
      "outputs": []
    },
    {
      "metadata": {
        "id": "XmvRB1C7J4KZ",
        "colab_type": "text"
      },
      "cell_type": "markdown",
      "source": [
        "## Starting small: focusing on actively rating users\n",
        "As a first small example, let's first focus on a small set of users.\n",
        "\n",
        "Let's say we want to select the 10 users who rated most of the movies of our interest.\n",
        "\n",
        "Using <code>groupby</code> and <code>unique()</code>, we can flatten our rating table to collect a single list of rated movies per unique user ID:"
      ]
    },
    {
      "metadata": {
        "id": "XenAf0uzJ4Ka",
        "colab_type": "code",
        "colab": {}
      },
      "cell_type": "code",
      "source": [
        "users_to_rated_movies = ratings_for_movies.groupby('user_id')['movie_id'].unique()\n",
        "# which movie IDs were rated by user 1?\n",
        "users_to_rated_movies[1]"
      ],
      "execution_count": 0,
      "outputs": []
    },
    {
      "metadata": {
        "id": "P6laT41OJ4Kc",
        "colab_type": "text"
      },
      "cell_type": "markdown",
      "source": [
        "But we can also directly call <code>nunique()</code> to find the number of rated movies per user:"
      ]
    },
    {
      "metadata": {
        "id": "mY_Khb7jJ4Kc",
        "colab_type": "code",
        "colab": {}
      },
      "cell_type": "code",
      "source": [
        "users_to_rating_count = ratings_for_movies.groupby('user_id')['movie_id'].nunique()\n",
        "# how many movies were rated by user 1?\n",
        "users_to_rating_count[1]"
      ],
      "execution_count": 0,
      "outputs": []
    },
    {
      "metadata": {
        "id": "6wWFpkOAJ4Kf",
        "colab_type": "text"
      },
      "cell_type": "markdown",
      "source": [
        "To identify the most active users, we sort the user IDs based on the amount of movies they rated, in descending order."
      ]
    },
    {
      "metadata": {
        "id": "e3E_vWCNJ4Kg",
        "colab_type": "code",
        "colab": {}
      },
      "cell_type": "code",
      "source": [
        "users_sorted_by_rating_count = users_to_rating_count.sort_values(ascending = False)\n",
        "print(users_sorted_by_rating_count.head())"
      ],
      "execution_count": 0,
      "outputs": []
    },
    {
      "metadata": {
        "id": "yLAqvXSOJ4Kn",
        "colab_type": "text"
      },
      "cell_type": "markdown",
      "source": [
        "We now select the 10 most active users."
      ]
    },
    {
      "metadata": {
        "id": "-F5n32S_J4Kn",
        "colab_type": "code",
        "colab": {}
      },
      "cell_type": "code",
      "source": [
        "users_considered = users_sorted_by_rating_count[0:10].keys()\n",
        "# again, for convenience we sort our table\n",
        "users_considered = sorted(users_considered)\n",
        "\n",
        "# is user 1 among the most active users?\n",
        "print(1 in users_considered)\n",
        "# is user 13 among the most active users?\n",
        "print(13 in users_considered)"
      ],
      "execution_count": 0,
      "outputs": []
    },
    {
      "metadata": {
        "id": "BJLG_MG1J4Kq",
        "colab_type": "code",
        "colab": {}
      },
      "cell_type": "code",
      "source": [
        "# If you want to see the demographics of the selected users, uncomment the following line.\n",
        "# user_data.loc[user_data['user_id'].isin(users_considered)]"
      ],
      "execution_count": 0,
      "outputs": []
    },
    {
      "metadata": {
        "id": "lHLzL1S1J4Kt",
        "colab_type": "text"
      },
      "cell_type": "markdown",
      "source": [
        "## Preparing the matrix factorization\n",
        "We now know what movies we are interested in, and what users we are interested in. Now all we need to do is establishing a user-item matrix, and applying factorization on it.\n",
        "\n",
        "We use numpy for handling matrices."
      ]
    },
    {
      "metadata": {
        "id": "ZTV_DNLFJ4Kt",
        "colab_type": "code",
        "colab": {}
      },
      "cell_type": "code",
      "source": [
        "import numpy as np"
      ],
      "execution_count": 0,
      "outputs": []
    },
    {
      "metadata": {
        "id": "Fr_IIb8PJ4Kw",
        "colab_type": "text"
      },
      "cell_type": "markdown",
      "source": [
        "## Question\n",
        "What are the dimensions of the user-item matrix, which we will call $\\mathbf{R}$ (as it holds ratings)?\n",
        "\n",
        "Enter the appropriate number of rows and columns below, so we can initialize an all-zero matrix with the proper size."
      ]
    },
    {
      "metadata": {
        "id": "ZRxFl42bJ4Kw",
        "colab_type": "code",
        "colab": {}
      },
      "cell_type": "code",
      "source": [
        "num_rows = 1000 # Replace 1000 by the desired number of rows\n",
        "num_columns = 1000 # Replace 1000 by the desired number of columns\n",
        "\n",
        "R = np.zeros((num_rows, num_columns))"
      ],
      "execution_count": 0,
      "outputs": []
    },
    {
      "metadata": {
        "id": "Jjd61W0ZJ4K0",
        "colab_type": "text"
      },
      "cell_type": "markdown",
      "source": [
        "There is one more thing to resolve. Our user IDs and movie IDs are numbers, but they do not reflect the desired coordinates in a user-item matrix.\n",
        "\n",
        "That is, R[0,0] should reflect the rating of 'the first user' on 'the first movie'."
      ]
    },
    {
      "metadata": {
        "id": "Rn8WwmHmJ4K0",
        "colab_type": "code",
        "colab": {}
      },
      "cell_type": "code",
      "source": [
        "# What is the lowest user ID we have?\n",
        "print(users_considered[0])\n",
        "# What is the lowest movie ID we have?\n",
        "print(movies_considered[0])\n",
        "print('So, R[0,0] should reflect the rating of user %d on movie %d.' % (users_considered[0], movies_considered[0]))"
      ],
      "execution_count": 0,
      "outputs": []
    },
    {
      "metadata": {
        "id": "KAuh-1cYJ4K2",
        "colab_type": "text"
      },
      "cell_type": "markdown",
      "source": [
        "We therefore will create lookup maps, which map user and movie IDs to a matrix row/column index [0, 1, 2...], and the other way around."
      ]
    },
    {
      "metadata": {
        "id": "Euw1u5usJ4K2",
        "colab_type": "code",
        "colab": {}
      },
      "cell_type": "code",
      "source": [
        "user_to_index = dict(zip(users_considered, range(len(users_considered))))\n",
        "movie_to_index = dict(zip(movies_considered, range(len(movies_considered))))\n",
        "index_to_user = dict(zip(user_to_index.values(), user_to_index.keys()))      \n",
        "index_to_movie = dict(zip(movie_to_index.values(), movie_to_index.keys()))\n",
        "\n",
        "# feel free to print them to verify that the mapping worked out correctly.\n",
        "# Note that the keys() of a dictionary are not necessarily returned in order."
      ],
      "execution_count": 0,
      "outputs": []
    },
    {
      "metadata": {
        "id": "162s8bgEJ4K3",
        "colab_type": "text"
      },
      "cell_type": "markdown",
      "source": [
        "At last, we now will populate the user-item matrix.\n",
        "\n",
        "We do this by iterating over the relevant data frame rows, and then extracting the movie ID and rating score in case we encounter a user of interest."
      ]
    },
    {
      "metadata": {
        "id": "z_kuXlFRJ4K4",
        "colab_type": "code",
        "colab": {}
      },
      "cell_type": "code",
      "source": [
        "for index, row in ratings_for_movies.iterrows():\n",
        "    if row['user_id'] in users_considered:\n",
        "        i = user_to_index[row['user_id']]\n",
        "        j = movie_to_index[row['movie_id']]\n",
        "        R[i, j] = row['rating']"
      ],
      "execution_count": 0,
      "outputs": []
    },
    {
      "metadata": {
        "id": "Mz5LHpvHJ4K8",
        "colab_type": "code",
        "colab": {}
      },
      "cell_type": "code",
      "source": [
        "# What is the user-item matrix looking like?\n",
        "print(R)"
      ],
      "execution_count": 0,
      "outputs": []
    },
    {
      "metadata": {
        "id": "I2YUuZFQJ4K9",
        "colab_type": "text"
      },
      "cell_type": "markdown",
      "source": [
        "For applying the matrix factorization, we use the <code>svd()</code> function in <code>scipy.linalg</code> here.\n",
        "\n",
        "*Note that there are a few Singular Value Decomposition implementations offered by scipy and scikits-learn, also with dedicated approaches targeted at sparse matrices. But for our current smaller samples, the regular SVD works fine.*"
      ]
    },
    {
      "metadata": {
        "id": "dEEu70ZWJ4K9",
        "colab_type": "code",
        "colab": {}
      },
      "cell_type": "code",
      "source": [
        "import scipy.linalg"
      ],
      "execution_count": 0,
      "outputs": []
    },
    {
      "metadata": {
        "id": "4-SPAmxDJ4K_",
        "colab_type": "code",
        "colab": {}
      },
      "cell_type": "code",
      "source": [
        "# How to call the SVD function?\n",
        "help(scipy.linalg.svd)"
      ],
      "execution_count": 0,
      "outputs": []
    },
    {
      "metadata": {
        "id": "oFkBUtpoJ4LA",
        "colab_type": "text"
      },
      "cell_type": "markdown",
      "source": [
        "We now perform the SVD. Then, we can express $\\mathbf{R}$ as\n",
        "\n",
        "$$\\mathbf{R} = \\mathbf{U} \\mathbf{\\Sigma} \\mathbf{V^T}$$\n",
        "\n",
        "with $\\mathbf{U}$ being an orthonormal matrix expressing user-related factors,\n",
        "$\\mathbf{\\Sigma}$ being a diagonal matrix expressing singular values of decreasing weight,\n",
        "and $\\mathbf{V}$ being an orthonormal matrix expressing movie-related factors,\n"
      ]
    },
    {
      "metadata": {
        "id": "mvZqDtaUJ4LC",
        "colab_type": "code",
        "colab": {}
      },
      "cell_type": "code",
      "source": [
        "U, S, Vt = scipy.linalg.svd(R, full_matrices=False)"
      ],
      "execution_count": 0,
      "outputs": []
    },
    {
      "metadata": {
        "id": "gbvjO8s9J4LD",
        "colab_type": "code",
        "colab": {}
      },
      "cell_type": "code",
      "source": [
        "print(U.shape)\n",
        "print(S.shape)\n",
        "print(Vt.shape)"
      ],
      "execution_count": 0,
      "outputs": []
    },
    {
      "metadata": {
        "id": "Si__nan4J4LF",
        "colab_type": "code",
        "colab": {}
      },
      "cell_type": "code",
      "source": [
        "# What are the first 10 singular values?\n",
        "print(S[0:10])"
      ],
      "execution_count": 0,
      "outputs": []
    },
    {
      "metadata": {
        "id": "KRxOo03uJ4LH",
        "colab_type": "text"
      },
      "cell_type": "markdown",
      "source": [
        "## Plotting movies in latent factor space\n",
        "Based on our analysis, we will plot the movies in latent factor space to see to what extent they cluster or contrast.\n",
        "\n",
        "For the plotting, we will use matplotlib:"
      ]
    },
    {
      "metadata": {
        "id": "Q73H79qUJ4LI",
        "colab_type": "code",
        "colab": {}
      },
      "cell_type": "code",
      "source": [
        "import matplotlib.pyplot as plt\n",
        "%matplotlib inline\n",
        "# add the 'magic' function above to ensure plots are rendered within the notebook\n",
        "# for this, you either can use %matplot inline (which we do here), which will plot inline\n",
        "# or % matplotlib notebook (which we did in the past lab), which will give some additional plot interaction possibilities"
      ],
      "execution_count": 0,
      "outputs": []
    },
    {
      "metadata": {
        "id": "7PUqZQzWJ4LJ",
        "colab_type": "text"
      },
      "cell_type": "markdown",
      "source": [
        "## Make 2D scatterplots of factor weights\n",
        "We select the indices corresponding to the factors we want to examine.\n",
        "\n",
        "Let's first take the first two factors, as they have the strongest weight."
      ]
    },
    {
      "metadata": {
        "id": "SMjKbVQ-J4LK",
        "colab_type": "code",
        "colab": {}
      },
      "cell_type": "code",
      "source": [
        "factor_x_index = 0\n",
        "factor_y_index = 1"
      ],
      "execution_count": 0,
      "outputs": []
    },
    {
      "metadata": {
        "id": "NJfXT--nJ4LM",
        "colab_type": "text"
      },
      "cell_type": "markdown",
      "source": [
        "Then, we can use the <code>scatter</code> function to draw a scatter plot."
      ]
    },
    {
      "metadata": {
        "id": "dRWQbDLUJ4LM",
        "colab_type": "code",
        "colab": {}
      },
      "cell_type": "code",
      "source": [
        "# Recall that Vt is holding the movie-related factors\n",
        "plt.scatter(Vt[factor_x_index,:], Vt[factor_y_index,:])\n",
        "for movie_index in range(len(movies_considered)):\n",
        "    plt.annotate(\n",
        "        movie_data[index_to_movie[movie_index]],\n",
        "        (Vt[factor_x_index, movie_index], Vt[factor_y_index, movie_index]))\n",
        "plt.xlabel('factor %d' % (factor_x_index + 1))\n",
        "plt.ylabel('factor %d' % (factor_y_index + 1))\n",
        "# optional: save higher-resolution *.png locally\n",
        "# plt.savefig('name_of_plot', ext='png', dpi=150)\n",
        "plt.show()"
      ],
      "execution_count": 0,
      "outputs": []
    },
    {
      "metadata": {
        "id": "w0BYHmoeJ4LO",
        "colab_type": "text"
      },
      "cell_type": "markdown",
      "source": [
        "## Rating prediction using matrix factorization\n",
        "We can use matrix factorization to predict user ratings.\n",
        "\n",
        "Looking at our 10 users, let's remove one from the user-item matrix, and try to predict the ratings for this user.\n",
        "\n",
        "Say we remove the fourth user from <code>users_considered</code>:"
      ]
    },
    {
      "metadata": {
        "id": "_1rYYql6J4LO",
        "colab_type": "code",
        "colab": {}
      },
      "cell_type": "code",
      "source": [
        "user_to_predict = users_considered[3]\n",
        "ratings_to_predict = R[3,:]\n",
        "print('to predict: %s for user %s.' % (ratings_to_predict, user_to_predict))"
      ],
      "execution_count": 0,
      "outputs": []
    },
    {
      "metadata": {
        "id": "pjPGeDByJ4LQ",
        "colab_type": "text"
      },
      "cell_type": "markdown",
      "source": [
        "We remove this user from R and re-establish the factorization on the new matrix."
      ]
    },
    {
      "metadata": {
        "id": "H2u956PqJ4LR",
        "colab_type": "code",
        "colab": {}
      },
      "cell_type": "code",
      "source": [
        "# remove the user from users_considered\n",
        "users_considered.remove(users_considered[3])\n",
        "# redo the lookup indices\n",
        "user_to_index = dict(zip(users_considered, range(len(users_considered))))\n",
        "index_to_user = dict(zip(user_to_index.values(), user_to_index.keys()))      \n",
        "\n",
        "# remove user from R\n",
        "R = np.delete(R, (3), axis=0)\n",
        "R"
      ],
      "execution_count": 0,
      "outputs": []
    },
    {
      "metadata": {
        "id": "w2KXCUzOJ4LS",
        "colab_type": "code",
        "colab": {}
      },
      "cell_type": "code",
      "source": [
        "# redo the SVD\n",
        "U, S, Vt = scipy.linalg.svd(R, full_matrices=False)"
      ],
      "execution_count": 0,
      "outputs": []
    },
    {
      "metadata": {
        "id": "Pi9Xb8uBJ4LT",
        "colab_type": "code",
        "colab": {}
      },
      "cell_type": "code",
      "source": [
        "# make a new scatter plot\n",
        "plt.figure()\n",
        "plt.scatter(Vt[factor_x_index,:], Vt[factor_y_index,:])\n",
        "for movie_index in range(len(movies_considered)):\n",
        "    plt.annotate(\n",
        "        movie_data[index_to_movie[movie_index]],\n",
        "        (Vt[factor_x_index, movie_index], Vt[factor_y_index, movie_index]))\n",
        "plt.xlabel('factor %d' % (factor_x_index + 1))\n",
        "plt.ylabel('factor %d' % (factor_y_index + 1))\n",
        "plt.show()"
      ],
      "execution_count": 0,
      "outputs": []
    },
    {
      "metadata": {
        "id": "Tf_DUcP8J4LU",
        "colab_type": "text"
      },
      "cell_type": "markdown",
      "source": [
        "Note how this plot differs from your previous scatter plot.\n",
        "\n",
        "The SVD solving approach suffers from sign indeterminacy, which means that the sign corresponding to a factor may flip for different initializations. Still, internal relationships should reasonably hold, and that indeed is the case (e.g. on factor 2, Psycho and Evita are still strong opposites).\n",
        "\n",
        "## Performing rating prediction\n",
        "Say we will only consider the first two factors, and try to predict the ratings using this model for our user 222.\n",
        "\n",
        "We will first project the user's rating into 2D factor space, by multiplying with the columns of $\\mathbf{V}$ corresponding to the two strongest factors:"
      ]
    },
    {
      "metadata": {
        "id": "zTh4Vmv5J4LV",
        "colab_type": "code",
        "colab": {}
      },
      "cell_type": "code",
      "source": [
        "U_S_2d = np.dot(ratings_to_predict, Vt[0:2,:].transpose())"
      ],
      "execution_count": 0,
      "outputs": []
    },
    {
      "metadata": {
        "id": "Imx4hUx7J4LW",
        "colab_type": "text"
      },
      "cell_type": "markdown",
      "source": [
        "Then, reconstruct the data by multiplying with the rows of $\\mathbf{V^T}$ corresponding to the two strongest factors:"
      ]
    },
    {
      "metadata": {
        "id": "oiVVTr--J4LX",
        "colab_type": "code",
        "colab": {}
      },
      "cell_type": "code",
      "source": [
        "ratings_to_predict_reconstructed = np.dot(U_S_2d, Vt[0:2,:])\n",
        "print(ratings_to_predict_reconstructed)\n",
        "print(ratings_to_predict)"
      ],
      "execution_count": 0,
      "outputs": []
    },
    {
      "metadata": {
        "id": "UVgMi1ztJ4LY",
        "colab_type": "text"
      },
      "cell_type": "markdown",
      "source": [
        "To get a better feel for how accurate the prediction is, implement the RMSE measure:"
      ]
    },
    {
      "metadata": {
        "id": "m0nR2d4hJ4LY",
        "colab_type": "code",
        "colab": {}
      },
      "cell_type": "code",
      "source": [
        "def RMSE(array1, array2):\n",
        "    # Replace -1 by a proper RMSE (Root Mean Square Error) implementation.\n",
        "    # You will at least need np.sqrt() -- consult the numpy documentation and use the IPython tab completion to further\n",
        "    # establish the necessary functionality.\n",
        "    return -1\n",
        "\n",
        "# what is the RMSE for our example?\n",
        "RMSE(ratings_to_predict, ratings_to_predict_reconstructed)"
      ],
      "execution_count": 0,
      "outputs": []
    },
    {
      "metadata": {
        "id": "Vuw_aElVJ4La",
        "colab_type": "text"
      },
      "cell_type": "markdown",
      "source": [
        "## I don't see how this SVD reconstruction works?\n",
        "If you need to read up on your SVD background, check http://infolab.stanford.edu/~ullman/mmds/ch11.pdf and the corresponding examples."
      ]
    },
    {
      "metadata": {
        "id": "uiITDRlbJ4La",
        "colab_type": "text"
      },
      "cell_type": "markdown",
      "source": [
        "## Wrapping up this lab assignment\n",
        "We now gave you examples of how to perform matrix factorization on a movie ratings dataset.\n",
        "\n",
        "For your lab course deliverable of this week, please play around with these examples more, and examine at least the effect of using different sizes of user populations.\n",
        "\n",
        "* Our current example only used 10 (or 9) users, what would happen if you use slightly more, or many more? How are the main latent factors affected, do they become more stable as more users are considered? How is RMSE affected?\n",
        "\n",
        "* In the scatter plot, play around with different factors. Instead of the first two, you can for example also test the first and the third.\n",
        "\n",
        "* Optional: What would happen to the factorization if you would include other movies? Some nice ones to try are:\n",
        "<code>\n",
        "movieID 127: 'Godfather, The (1972)'\n",
        "movieID 423: 'E.T. the Extra-Terrestrial (1982)'\n",
        "movieID 485: 'My Fair Lady (1964)'\n",
        "</code>\n",
        "but feel free to consult <code>u.item</code> to select the IDs and titles of movies you find interesting.\n",
        "\n",
        "As indicated above, hand in a \\*.pdf report named<code>[studentNumberMember1_studentNumberMember2.pdf]</code> in which you include **three** latent factor scatter plots, obtained for **three different input data slices**, which at least differ in terms of user population size (so the size of <code>users_considered</code>.\n",
        "\n",
        "For each of the scatter plots, do two things:\n",
        "  * specify the characteristics of your input data (e.g. population size, selection criteria for users and films);\n",
        "  * based on each plot, give a possible interpretation of what the factors represented by the x and y axes of your plot may indicate.\n",
        "\n",
        "You can simply retrieve the scatter plot images for your report by using the 'download' button underneath each plot.\n",
        "\n",
        "Alternatively, you can export higher-resolution images through <code>savefig</code>, e.g.\n",
        "\n",
        "<code>$ plt.savefig('name_of_plot', ext='png', dpi=150)</code>.\n",
        "\n",
        "Place this call before calling <code>plt.show()</code>; also see the commented line accompanying the first scatter plot.\n"
      ]
    }
  ]
}